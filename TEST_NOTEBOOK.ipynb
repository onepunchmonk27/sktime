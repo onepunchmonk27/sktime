{
 "cells": [
  {
   "cell_type": "code",
   "execution_count": null,
   "id": "35f75d59",
   "metadata": {},
   "outputs": [],
   "source": [
    "print('This is a test notebook for CI.') "
   ]
  }
 ],
 "metadata": {
  "kernelspec": {
   "display_name": "base",
   "language": "python",
   "name": "python3"
  },
  "language_info": {
   "name": "python",
   "version": "3.10.9"
  }
 },
 "nbformat": 4,
 "nbformat_minor": 5
}
