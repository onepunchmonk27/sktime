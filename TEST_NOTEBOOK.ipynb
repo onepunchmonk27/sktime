{
 "cells": [
  {
   "cell_type": "code",
   "execution_count": null,
   "id": "35f75d59",
   "metadata": {
    "vscode": {
     "languageId": "plaintext"
    }
   },
   "outputs": [],
   "source": [
    "print('This is a test notebook for CI.')"
   ]
  }
 ],
 "metadata": {
  "language_info": {
   "name": "python"
  }
 },
 "nbformat": 4,
 "nbformat_minor": 5
}
